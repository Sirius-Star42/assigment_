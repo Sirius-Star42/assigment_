{
 "cells": [
  {
   "cell_type": "markdown",
   "metadata": {},
   "source": [
    "\n",
    "\n",
    "    Task : Print the FizzBuzz numbers.\n",
    "    FizzBuzz is a famous code challenge used in interviews to test basic programming skills. It's time to write your own implementation.\n",
    "\n",
    "    Print numbers from 1 to 100 inclusively following these instructions:\n",
    "\n",
    "    if a number is multiple of 3, print \"Fizz\" instead of this number,\n",
    "    if a number is multiple of 5, print \"Buzz\" instead of this number,\n",
    "    for numbers that are multiples of both 3 and 5, print \"FizzBuzz\",\n",
    "    print the rest of the numbers unchanged.\n",
    "\n",
    "    Output each value on a separate line.\n"
   ]
  },
  {
   "cell_type": "code",
   "execution_count": 77,
   "metadata": {},
   "outputs": [
    {
     "name": "stdout",
     "output_type": "stream",
     "text": [
      "1 2 Fizz 4 Buzz Fizz 7 8 Fizz Buzz 11 Fizz 13 14 FizzBuzz 16 17 Fizz 19 Buzz Fizz 22 23 Fizz Buzz 26 Fizz 28 29 FizzBuzz 31 32 Fizz 34 Buzz Fizz 37 38 Fizz Buzz 41 Fizz 43 44 FizzBuzz 46 47 Fizz 49 Buzz Fizz 52 53 Fizz Buzz 56 Fizz 58 59 FizzBuzz 61 62 Fizz 64 Buzz Fizz 67 68 Fizz Buzz 71 Fizz 73 74 FizzBuzz 76 77 Fizz 79 Buzz Fizz 82 83 Fizz Buzz 86 Fizz 88 89 FizzBuzz 91 92 Fizz 94 Buzz Fizz 97 98 Fizz Buzz "
     ]
    }
   ],
   "source": [
    "def FizzBuzz(numbers):\n",
    "    for i in numbers :\n",
    "        print(i, end=\" \")\n",
    "numbers= [(\"FizzBuzz\" if x%15==0 else x and \"Fizz\" if x%3==0 else x and \"Buzz\" if x%5==0 else x)  for x in range(1,101)]\n",
    "FizzBuzz(numbers)\n",
    "\n",
    "\n"
   ]
  },
  {
   "cell_type": "code",
   "execution_count": null,
   "metadata": {},
   "outputs": [],
   "source": []
  }
 ],
 "metadata": {
  "kernelspec": {
   "display_name": "Python 3",
   "language": "python",
   "name": "python3"
  },
  "language_info": {
   "codemirror_mode": {
    "name": "ipython",
    "version": 3
   },
   "file_extension": ".py",
   "mimetype": "text/x-python",
   "name": "python",
   "nbconvert_exporter": "python",
   "pygments_lexer": "ipython3",
   "version": "3.7.6"
  }
 },
 "nbformat": 4,
 "nbformat_minor": 4
}
