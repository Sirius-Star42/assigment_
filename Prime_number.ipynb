{
 "cells": [
  {
   "cell_type": "markdown",
   "metadata": {},
   "source": [
    "input →  19 ⇉ output : 19 is a prime number\n",
    "input →  10 ⇉ output : 10 is not a prime number"
   ]
  },
  {
   "cell_type": "code",
   "execution_count": 26,
   "metadata": {},
   "outputs": [
    {
     "name": "stdin",
     "output_type": "stream",
     "text": [
      "Please enter a number 10\n"
     ]
    },
    {
     "name": "stdout",
     "output_type": "stream",
     "text": [
      "10 is not a prime number\n"
     ]
    }
   ],
   "source": [
    "n=int(input(\"Please enter a number\"))\n",
    "count=False\n",
    "for i in range(2,n+1):\n",
    "    if n%i==0 and n!=i :\n",
    "        count=True\n",
    "        break\n",
    "    else:\n",
    "        count=False\n",
    "print(n, \"is\", count*\"not\", \"a prime number\" )\n",
    "   "
   ]
  },
  {
   "cell_type": "code",
   "execution_count": null,
   "metadata": {},
   "outputs": [],
   "source": []
  }
 ],
 "metadata": {
  "kernelspec": {
   "display_name": "Python 3",
   "language": "python",
   "name": "python3"
  },
  "language_info": {
   "codemirror_mode": {
    "name": "ipython",
    "version": 3
   },
   "file_extension": ".py",
   "mimetype": "text/x-python",
   "name": "python",
   "nbconvert_exporter": "python",
   "pygments_lexer": "ipython3",
   "version": "3.7.6"
  }
 },
 "nbformat": 4,
 "nbformat_minor": 4
}
