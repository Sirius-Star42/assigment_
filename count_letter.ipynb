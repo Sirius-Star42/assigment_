{
 "cells": [
  {
   "cell_type": "markdown",
   "metadata": {},
   "source": [
    "hippo runs to us! \t {'s': 2, 'r': 1, 't': 1, 'h': 1, 'n': 1, 'i': 1, 'u': 2, 'o': 2, 'p': 2, ' ': 3, '!': 1}"
   ]
  },
  {
   "cell_type": "code",
   "execution_count": 33,
   "metadata": {},
   "outputs": [
    {
     "name": "stdout",
     "output_type": "stream",
     "text": [
      "{'h': '1', 'i': '1', 'p': '2', 'o': '2', ' ': '3', 'r': '1', 'u': '2', 'n': '1', 's': '2', 't': '1', '!': '1'}\n"
     ]
    }
   ],
   "source": [
    "string=\"hippo runs to us!\"\n",
    "x=dict(x)\n",
    "for i in string:\n",
    "    x.setdefault(i,str(string.count(i)))\n",
    "print(x)\n",
    "\n",
    "    "
   ]
  }
 ],
 "metadata": {
  "kernelspec": {
   "display_name": "Python 3",
   "language": "python",
   "name": "python3"
  },
  "language_info": {
   "codemirror_mode": {
    "name": "ipython",
    "version": 3
   },
   "file_extension": ".py",
   "mimetype": "text/x-python",
   "name": "python",
   "nbconvert_exporter": "python",
   "pygments_lexer": "ipython3",
   "version": "3.7.6"
  }
 },
 "nbformat": 4,
 "nbformat_minor": 4
}
