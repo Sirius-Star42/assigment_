{
 "cells": [
  {
   "cell_type": "code",
   "execution_count": 59,
   "metadata": {},
   "outputs": [
    {
     "name": "stdin",
     "output_type": "stream",
     "text": [
      "Enter a number for prime number list 100\n"
     ]
    },
    {
     "name": "stdout",
     "output_type": "stream",
     "text": [
      "[2, 3, 5, 7, 11, 13, 17, 19, 23, 29, 31, 37, 41, 43, 47, 53, 59, 61, 67, 71, 73, 79, 83, 89, 97]\n"
     ]
    }
   ],
   "source": [
    "#maybe one day, we will see the sun too.\n",
    "    \n",
    "n=int(input(\"Enter a number for prime number list\"))\n",
    "prime_number_list=[]\n",
    "count=False\n",
    "if n>1:\n",
    "    for i in range(2,n+1):\n",
    "        for ii in range(2,i+1):\n",
    "            if i%ii==0 and i!=ii:\n",
    "                count=False\n",
    "                break\n",
    "            else:\n",
    "                count=True\n",
    "        if count==True:\n",
    "            prime_number_list.append(i)\n",
    "    print(prime_number_list)\n",
    "else:\n",
    "    print(n, \"is not a positive integer number\")     \n",
    "            \n",
    "    "
   ]
  },
  {
   "cell_type": "code",
   "execution_count": null,
   "metadata": {},
   "outputs": [],
   "source": []
  }
 ],
 "metadata": {
  "kernelspec": {
   "display_name": "Python 3",
   "language": "python",
   "name": "python3"
  },
  "language_info": {
   "codemirror_mode": {
    "name": "ipython",
    "version": 3
   },
   "file_extension": ".py",
   "mimetype": "text/x-python",
   "name": "python",
   "nbconvert_exporter": "python",
   "pygments_lexer": "ipython3",
   "version": "3.7.6"
  }
 },
 "nbformat": 4,
 "nbformat_minor": 4
}
